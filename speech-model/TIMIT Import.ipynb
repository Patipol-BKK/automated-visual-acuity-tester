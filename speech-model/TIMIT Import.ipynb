{
 "cells": [
  {
   "cell_type": "code",
   "execution_count": 69,
   "id": "c3dbf4c1",
   "metadata": {},
   "outputs": [
    {
     "name": "stdout",
     "output_type": "stream",
     "text": [
      "Loading Training Dataset\n"
     ]
    },
    {
     "data": {
      "application/vnd.jupyter.widget-view+json": {
       "model_id": "59c7b0e649e34927a460048bed2b832d",
       "version_major": 2,
       "version_minor": 0
      },
      "text/plain": [
       "  0%|          | 0/8 [00:00<?, ?it/s]"
      ]
     },
     "metadata": {},
     "output_type": "display_data"
    },
    {
     "name": "stdout",
     "output_type": "stream",
     "text": [
      "Loading Testing Dataset\n"
     ]
    },
    {
     "data": {
      "application/vnd.jupyter.widget-view+json": {
       "model_id": "6a826c52015d4463966de2a38ac40c5c",
       "version_major": 2,
       "version_minor": 0
      },
      "text/plain": [
       "  0%|          | 0/8 [00:00<?, ?it/s]"
      ]
     },
     "metadata": {},
     "output_type": "display_data"
    }
   ],
   "source": [
    "import os\n",
    "import soundfile as sf     # for reading audio files\n",
    "import speechpy           # for speech processing\n",
    "from tqdm.notebook import tqdm     # for progress bars\n",
    "import numpy as np        # for numerical operations\n",
    "import matplotlib.pyplot as plt   # for plotting\n",
    "\n",
    "# Set directories for training and testing data\n",
    "testing_dir = os.getcwd()\n",
    "testing_dir = os.path.join(testing_dir, '.\\\\TIMIT\\\\TEST')\n",
    "training_dir = os.getcwd()\n",
    "training_dir = os.path.join(training_dir, '.\\\\TIMIT\\\\TRAIN')\n",
    "\n",
    "def get_raw_phoneme_dataset(working_dir):\n",
    "    phoneme_signals = []     # list for storing phoneme signals\n",
    "    phoneme_labels = []      # list for storing phoneme labels\n",
    "    dialect_folders = os.listdir(working_dir)\n",
    "    for dialect_folder in tqdm(dialect_folders):\n",
    "        voice_folders = os.listdir(os.path.join(working_dir, dialect_folder))\n",
    "        for voice_sample_folder in voice_folders:\n",
    "            current_dir = os.path.join(working_dir, dialect_folder)\n",
    "            current_dir = os.path.join(current_dir, voice_sample_folder)\n",
    "\n",
    "            voice_samples = [file for file in os.listdir(current_dir) if file.endswith('.WAV')]\n",
    "            for voice_sample in voice_samples:\n",
    "                voice_sample_path = os.path.join(current_dir, voice_sample)\n",
    "                signal, fs = sf.read(voice_sample_path)\n",
    "                \n",
    "                # Uncomment below to Pre-emphasize signal\n",
    "#                 signal = speechpy.processing.preemphasis(signal, cof=0.98)\n",
    "                \n",
    "                phoneme_transcript_path = os.path.join(current_dir, voice_sample)[:-3] + 'PHN'\n",
    "                f = open(phoneme_transcript_path, encoding='utf-8')\n",
    "                lines = f.readlines()\n",
    "                for line in lines:\n",
    "                    data = line.split(' ')\n",
    "                    phoneme_start_idx = int(data[0])\n",
    "                    phoneme_stop_idx = int(data[1])\n",
    "                    phoneme = data[2].strip()\n",
    "                    \n",
    "                    phoneme_signal = np.asarray(signal[phoneme_start_idx:phoneme_stop_idx])\n",
    "                \n",
    "                    # Add phoneme signal and label to list\n",
    "                    phoneme_signals.append(phoneme_signal)\n",
    "                    phoneme_labels.append(phoneme)\n",
    "    return np.asarray(phoneme_signals, dtype=object), np.asarray(phoneme_labels)\n",
    "        \n",
    "# Load training and testing phoneme signals\n",
    "print(\"Loading Training Dataset\")\n",
    "training_signals, training_labels = get_raw_phoneme_dataset(training_dir)\n",
    "print(\"Loading Testing Dataset\")\n",
    "testing_signals, testing_labels = get_raw_phoneme_dataset(testing_dir)\n"
   ]
  },
  {
   "cell_type": "code",
   "execution_count": 70,
   "id": "3991e273",
   "metadata": {},
   "outputs": [],
   "source": [
    "# Saving Training Dataset to File\n",
    "np.save('./dataset/training_signals.npy', training_signals)\n",
    "np.save('./dataset/training_labels.npy', training_labels)\n",
    "\n",
    "# Saving Testing Dataset to File\n",
    "np.save('./dataset/testing_signals.npy', testing_signals)\n",
    "np.save('./dataset/testing_labels.npy', testing_labels)"
   ]
  },
  {
   "cell_type": "code",
   "execution_count": 71,
   "id": "0b27a8f0",
   "metadata": {},
   "outputs": [],
   "source": [
    "new_phenome_lookup = {\n",
    "    'iy':'i',\n",
    "    'ih':'i',\n",
    "    's':'s',\n",
    "    'd':'d',\n",
    "    'eh':'e',\n",
    "    'ey':'e',\n",
    "    'ch':'ch',\n",
    "    'hh':'h',\n",
    "    'k':'k',\n",
    "    'ow':'o',\n",
    "    'ae':'a',\n",
    "    'aa':'a',\n",
    "    'ah':'a',\n",
    "    'ao':'a',\n",
    "    'oy':'a',\n",
    "    'er':'r',\n",
    "    'v':'v',\n",
    "    'w':'v',\n",
    "    'z':'z'\n",
    "}\n",
    "alphabet_labels = [\n",
    "    's iy',\n",
    "    's ih',\n",
    "]\n",
    "alphabet_readings = [\n",
    "    'c',\n",
    "    'c',\n",
    "    \n",
    "    \n",
    "]"
   ]
  },
  {
   "cell_type": "code",
   "execution_count": 72,
   "id": "c9ba5f14",
   "metadata": {
    "scrolled": true
   },
   "outputs": [
    {
     "data": {
      "application/vnd.jupyter.widget-view+json": {
       "model_id": "02072d3a29bd41259babce06a6920b1f",
       "version_major": 2,
       "version_minor": 0
      },
      "text/plain": [
       "0it [00:00, ?it/s]"
      ]
     },
     "metadata": {},
     "output_type": "display_data"
    }
   ],
   "source": [
    "import pandas as pd\n",
    "\n",
    "readings_path = './dataset/reading.xlsx'\n",
    "def get_readings_list(readings_path):\n",
    "    readings_list = []\n",
    "    readings_labels = []\n",
    "    readings = pd.read_excel(readings_path)\n",
    "    for i, key in tqdm(enumerate(readings.key)):\n",
    "        readings_list.append(readings['reading'][i].split(' '))\n",
    "        readings_labels.append(key)\n",
    "#         print(key, readings['reading'][i].split(' '))\n",
    "    return readings_list, readings_labels\n",
    "        \n",
    "        \n",
    "readings_list, readings_label = get_readings_list(readings_path)"
   ]
  },
  {
   "cell_type": "code",
   "execution_count": 73,
   "id": "24f1abcb",
   "metadata": {
    "scrolled": true
   },
   "outputs": [
    {
     "name": "stdout",
     "output_type": "stream",
     "text": [
      "Finding all unique phonemes presented in readings_list\n"
     ]
    },
    {
     "data": {
      "application/vnd.jupyter.widget-view+json": {
       "model_id": "77071f881af5434f81046743a10b97b7",
       "version_major": 2,
       "version_minor": 0
      },
      "text/plain": [
       "  0%|          | 0/8 [00:00<?, ?it/s]"
      ]
     },
     "metadata": {},
     "output_type": "display_data"
    },
    {
     "name": "stdout",
     "output_type": "stream",
     "text": [
      "Unique phonemes  : ['s', 'iy', 'ih', 'd', 'eh', 'ch', 'ey', 'hh', 'ay']\n",
      "['h#' 'sh' 'ix' ... 'p' 's' 'h#']\n"
     ]
    },
    {
     "data": {
      "application/vnd.jupyter.widget-view+json": {
       "model_id": "204137cf2b1c421c9f44b72a7b830256",
       "version_major": 2,
       "version_minor": 0
      },
      "text/plain": [
       "  0%|          | 0/177080 [00:00<?, ?it/s]"
      ]
     },
     "metadata": {},
     "output_type": "display_data"
    },
    {
     "name": "stdout",
     "output_type": "stream",
     "text": [
      "<class 'numpy.ndarray'>\n",
      "<class 'numpy.ndarray'>\n",
      "<class 'numpy.ndarray'>\n",
      "<class 'numpy.ndarray'>\n",
      "<class 'numpy.ndarray'>\n",
      "<class 'numpy.ndarray'>\n",
      "<class 'numpy.ndarray'>\n",
      "<class 'numpy.ndarray'>\n",
      "<class 'numpy.ndarray'>\n"
     ]
    }
   ],
   "source": [
    "# Generates a dataset based on stitching audio samples together \n",
    "# according to the phoneme sequences in readings_list\n",
    "# - Returns signals, labels\n",
    "def generate_dataset(readings_list, readings_label, signals, labels):\n",
    "    phoneme_lookup_dict = {}\n",
    "    \n",
    "    # Find all the unique phonemes that are present\n",
    "    phoneme_set = []\n",
    "    print(\"Finding all unique phonemes presented in readings_list\")\n",
    "    for reading in tqdm(readings_list):\n",
    "        for phoneme in reading:\n",
    "            if not phoneme in phoneme_set:\n",
    "                phoneme_set.append(phoneme)\n",
    "    print(f'Unique phonemes  : {phoneme_set}')\n",
    "    \n",
    "    # Create a dictionary of signals for each phonemes\n",
    "    phoneme_samples_dict = {}\n",
    "    print(labels)\n",
    "    for i, label in enumerate(tqdm(labels)):\n",
    "        signal = signals[i]\n",
    "        if label in phoneme_set:\n",
    "            if not label in phoneme_samples_dict:\n",
    "                phoneme_samples_dict[label] = [signal]\n",
    "#                 print(phoneme_samples_dict[label])\n",
    "            else:\n",
    "                phoneme_samples_dict[label].append(signal)\n",
    "    for label in phoneme_samples_dict:\n",
    "        phoneme_samples_dict[label] = np.asarray(phoneme_samples_dict[label], dtype=object)\n",
    "        print(type(phoneme_samples_dict[label][0]))\n",
    "#     for reading in tqdm(readings_list):\n",
    "#         concat_signal = []\n",
    "#         for phoneme in reading:\n",
    "#             print(phoneme)\n",
    "#         return\n",
    "generate_dataset(readings_list, readings_labels, training_signals, training_labels)\n",
    "        "
   ]
  },
  {
   "cell_type": "code",
   "execution_count": null,
   "id": "1704878f",
   "metadata": {},
   "outputs": [],
   "source": []
  }
 ],
 "metadata": {
  "kernelspec": {
   "display_name": "Python 3 (ipykernel)",
   "language": "python",
   "name": "python3"
  },
  "language_info": {
   "codemirror_mode": {
    "name": "ipython",
    "version": 3
   },
   "file_extension": ".py",
   "mimetype": "text/x-python",
   "name": "python",
   "nbconvert_exporter": "python",
   "pygments_lexer": "ipython3",
   "version": "3.9.13"
  }
 },
 "nbformat": 4,
 "nbformat_minor": 5
}

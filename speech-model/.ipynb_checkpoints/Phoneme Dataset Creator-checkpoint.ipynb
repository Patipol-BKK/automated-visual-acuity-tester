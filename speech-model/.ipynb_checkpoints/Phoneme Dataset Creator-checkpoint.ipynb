{
 "cells": [
  {
   "cell_type": "code",
   "execution_count": 1,
   "id": "c00d52b4",
   "metadata": {
    "scrolled": true
   },
   "outputs": [
    {
     "name": "stderr",
     "output_type": "stream",
     "text": [
      "WARNING:root:Limited tf.compat.v2.summary API due to missing TensorBoard installation.\n",
      "WARNING:root:Limited tf.compat.v2.summary API due to missing TensorBoard installation.\n",
      "WARNING:root:Limited tf.compat.v2.summary API due to missing TensorBoard installation.\n",
      "WARNING:root:Limited tf.summary API due to missing TensorBoard installation.\n",
      "WARNING:root:Limited tf.compat.v2.summary API due to missing TensorBoard installation.\n",
      "WARNING:root:Limited tf.compat.v2.summary API due to missing TensorBoard installation.\n",
      "WARNING:root:Limited tf.compat.v2.summary API due to missing TensorBoard installation.\n"
     ]
    }
   ],
   "source": [
    "import tensorflow as tf\n",
    "from tensorflow import keras\n",
    "import scipy\n",
    "import scipy.io.wavfile as wav\n",
    "import numpy as np\n",
    "import wave\n",
    "import matplotlib.pyplot as plt\n",
    "import noisereduce\n",
    "import speechpy\n",
    "import os\n",
    "from scipy.cluster.vq import vq, kmeans2, kmeans, whiten\n",
    "from scipy.spatial import distance\n",
    "from tqdm.notebook import tqdm\n",
    "from hmmlearn import hmm\n",
    "import ruptures as rpt\n",
    "from matplotlib.ticker import (MultipleLocator, AutoMinorLocator)\n",
    "import soundfile as sf\n",
    "import sounddevice as sd\n",
    "import pickle \n",
    "from IPython.display import display\n",
    "import pandas as pd\n",
    "import random\n",
    "import pyaudio\n",
    "from scipy.io.wavfile import write\n",
    "from sklearn.utils import shuffle\n"
   ]
  },
  {
   "cell_type": "code",
   "execution_count": 3,
   "id": "4dc9fabe",
   "metadata": {},
   "outputs": [
    {
     "name": "stdout",
     "output_type": "stream",
     "text": [
      "training phoneme signals hasn't been loaded yet\n",
      "testing phoneme signals hasn't been loaded yet\n"
     ]
    }
   ],
   "source": [
    "testing_dir = os.getcwd()\n",
    "testing_dir = os.path.join(testing_dir, '.\\\\TIMIT\\\\TEST')\n",
    "\n",
    "training_dir = os.getcwd()\n",
    "training_dir = os.path.join(training_dir, '.\\\\TIMIT\\\\TRAIN')\n",
    "\n",
    "\n",
    "\n",
    "def load_phoneme_dataset(working_dir):\n",
    "    phoneme_signals = {}\n",
    "    dialect_folders = os.listdir(working_dir)\n",
    "    for dialect_folder in tqdm(dialect_folders, leave=False):\n",
    "        voice_folders = os.listdir(os.path.join(working_dir, dialect_folder))\n",
    "        for voice_sample_folder in tqdm(voice_folders, leave=False):\n",
    "            current_dir = os.path.join(working_dir, dialect_folder)\n",
    "            current_dir = os.path.join(current_dir, voice_sample_folder)\n",
    "\n",
    "            voice_samples = [file for file in os.listdir(current_dir) if file.endswith('.WAV')]\n",
    "            for voice_sample in voice_samples:\n",
    "                voice_sample_path = os.path.join(current_dir, voice_sample)\n",
    "                signal, fs = sf.read(voice_sample_path)\n",
    "#                 signal = np.zeros_like(signal)\n",
    "#                 signal[40000] = 10\n",
    "#                 print(signal.shape)\n",
    "    \n",
    "                # Pre-emphasize signal\n",
    "                signal_preemphasized = speechpy.processing.preemphasis(signal, cof=0.98)\n",
    "\n",
    "                # FFT\n",
    "#                 frames = speechpy.processing.stack_frames(signal_preemphasized, sampling_frequency=fs, frame_length=0.02, frame_stride=0.01, zero_padding=True)\n",
    "#                 fft = speechpy.processing.fft_spectrum(frames, 256)\n",
    "    \n",
    "#                 fig, ax = plt.subplots(nrows=2, ncols=1, constrained_layout=True)\n",
    "#                 fig.supxlabel('Time')\n",
    "#                 fig.set_size_inches(15, 10)\n",
    "#                 ax[0].plot(signal_preemphasized)\n",
    "#                 ax[0].set_xlim(0, signal_preemphasized.shape[0])\n",
    "                \n",
    "#                 fig.colorbar(ax[1].pcolor(fft.T))\n",
    "                \n",
    "\n",
    "                phoneme_transcript_path = os.path.join(current_dir, voice_sample)[:-3] + 'PHN'\n",
    "                f = open(phoneme_transcript_path, encoding='utf-8')\n",
    "                lines = f.readlines()\n",
    "                for line in lines:\n",
    "                    data = line.split(' ')\n",
    "                    phoneme_start_idx = int(data[0])\n",
    "                    phoneme_stop_idx = int(data[1])\n",
    "                    phoneme = data[2].strip()\n",
    "                    \n",
    "#                     ax[0].axvline(x=phoneme_start_idx, color='red')\n",
    "#                     ax[1].axvline(x=phoneme_start_idx/160, color='red')\n",
    "                    \n",
    "                    phoneme_signal_preemphasized = signal_preemphasized[int(phoneme_start_idx):int(phoneme_stop_idx)]\n",
    "\n",
    "                \n",
    "                    if phoneme in phoneme_signals:\n",
    "#                         print(phoneme_fft)\n",
    "                        phoneme_signals[phoneme].append(phoneme_signal_preemphasized)\n",
    "                        \n",
    "                    else:\n",
    "                        phoneme_signals[phoneme] = []\n",
    "                        phoneme_signals[phoneme].append(phoneme_signal_preemphasized)\n",
    "#                     print(phoneme_signals[phoneme])\n",
    "    return fs, phoneme_signals\n",
    "\n",
    "try:\n",
    "    training_phoneme_signals\n",
    "except NameError:\n",
    "    print('training phoneme signals hasn\\'t been loaded yet')\n",
    "    try:\n",
    "        with open('training_phoneme_signals.pkl', 'rb') as handle:\n",
    "            training_phoneme_signals = pickle.load(handle)\n",
    "    except:\n",
    "        print('training_phoneme_signals.pkl not found, start loading dataset')\n",
    "        fs, training_phoneme_signals = load_phoneme_dataset(training_dir)\n",
    "        with open('training_phoneme_signals.pkl', 'wb') as handle:\n",
    "            pickle.dump(training_phoneme_signals, handle)\n",
    "            \n",
    "try:\n",
    "    testing_phoneme_signals\n",
    "except NameError:\n",
    "    print('testing phoneme signals hasn\\'t been loaded yet')\n",
    "    try:\n",
    "        with open('testing_phoneme_signals.pkl', 'rb') as handle:\n",
    "            testing_phoneme_signals = pickle.load(handle)\n",
    "    except:\n",
    "        print('testing_phoneme_signals.pkl not found, start loading dataset')\n",
    "        fs, testing_phoneme_signals = load_phoneme_dataset(testing_dir)\n",
    "        with open('testing_phoneme_signals.pkl', 'wb') as handle:\n",
    "            pickle.dump(testing_phoneme_signals, handle)"
   ]
  },
  {
   "cell_type": "code",
   "execution_count": 4,
   "id": "6a0a962f",
   "metadata": {},
   "outputs": [
    {
     "name": "stdout",
     "output_type": "stream",
     "text": [
      "[['s', 's'], ['i', 'iy'], ['i', 'ih'], ['d', 'd'], ['h', 'hh'], ['e', 'eh'], ['e', 'ay'], ['ch', 'ch'], ['k', 'k'], ['n', 'n'], ['o', 'ow'], ['a', 'ah'], ['r', 'r'], ['v', 'v'], ['z', 'z'], ['silence', 'h#'], ['other', 'sh'], ['other', 'ix'], ['other', 'hv'], ['other', 'dcl'], ['other', 'jh'], ['other', 'kcl'], ['other', 'ux'], ['other', 'q'], ['other', 'en'], ['other', 'gcl'], ['other', 'g'], ['other', 'w'], ['other', 'ao'], ['other', 'epi'], ['other', 'dx'], ['other', 'axr'], ['other', 'l'], ['other', 'y'], ['other', 'uh'], ['other', 'ae'], ['other', 'm'], ['other', 'oy'], ['other', 'ax'], ['other', 'dh'], ['other', 'tcl'], ['other', 'f'], ['other', 't'], ['other', 'pcl'], ['other', 'bcl'], ['other', 'b'], ['other', 'aa'], ['other', 'em'], ['other', 'ng'], ['other', 'th'], ['other', 'ax-h'], ['other', 'ey'], ['other', 'p'], ['other', 'aw'], ['other', 'er'], ['other', 'nx'], ['other', 'el'], ['other', 'uw'], ['other', 'pau'], ['other', 'zh'], ['other', 'eng']] \n",
      "\n",
      "['s', 'i', 'd', 'h', 'e', 'ch', 'k', 'n', 'o', 'a', 'r', 'v', 'z', 'silence', 'other']\n"
     ]
    }
   ],
   "source": [
    "# words_list = [\n",
    "#     ['c', 's iy'],\n",
    "#     ['c', 's ih'],\n",
    "#     ['d', 'd iy'],\n",
    "#     ['d', 'd ih'],\n",
    "#     ['h', 'hh eh ch'],\n",
    "#     ['h', 'hh ey ch'],\n",
    "#     ['h', 'eh ch'],\n",
    "#     ['h', 'ey ch'],\n",
    "#     ['k', 'k eh'],\n",
    "#     ['k', 'k ey'],\n",
    "#     ['n', 'eh n'],\n",
    "#     ['o', 'ow'],\n",
    "#     ['r', 'ah'],\n",
    "#     ['r', 'ah r'],\n",
    "#     ['s', 'eh s'],\n",
    "#     ['v', 'v iy'],\n",
    "#     ['v', 'v ih'],\n",
    "#     ['z', 'z iy'],\n",
    "#     ['z', 'z ih'],\n",
    "#     ['z', 'z eh d'],\n",
    "#     ['z', 's eh d']\n",
    "# ]\n",
    "keywords_list = [\n",
    "    ['s', 's'],\n",
    "    ['i', 'iy'],\n",
    "    ['i', 'ih'],\n",
    "    ['d', 'd'],\n",
    "    ['h', 'hh'],\n",
    "    ['e', 'eh'],\n",
    "    ['e', 'ay'],\n",
    "    ['ch', 'ch'],\n",
    "    ['k', 'k'],\n",
    "    ['n', 'n'],\n",
    "    ['o', 'ow'],\n",
    "    ['a', 'ah'],\n",
    "    ['r', 'r'],\n",
    "    ['v', 'v'],\n",
    "    ['z', 'z'],\n",
    "    ['silence', 'h#'],\n",
    "]\n",
    "\n",
    "for key in training_phoneme_signals.keys():\n",
    "    found = False\n",
    "    for phoneme_pair in keywords_list:\n",
    "        if phoneme_pair[1] == key:\n",
    "            found = True\n",
    "        if found:\n",
    "            break\n",
    "    \n",
    "    if not found:\n",
    "        keywords_list.append(['other', key])\n",
    "print(keywords_list, '\\n')\n",
    "\n",
    "unique_keywords = []\n",
    "for phoneme_pair in keywords_list:\n",
    "    if phoneme_pair[0] not in unique_keywords:\n",
    "        unique_keywords.append(phoneme_pair[0])\n",
    "print(unique_keywords)"
   ]
  },
  {
   "cell_type": "code",
   "execution_count": 5,
   "id": "a7e98acb",
   "metadata": {},
   "outputs": [],
   "source": [
    "def plot_signal_array(signal_array):\n",
    "    fig, ax = plt.subplots(nrows=1, ncols=1, constrained_layout=True)\n",
    "    fig.supxlabel('Time')\n",
    "    fig.set_size_inches(15, 5)\n",
    "    ax.plot(signal_array)\n",
    "    \n",
    "def plot_pcolor(signal_array):\n",
    "    fig, ax = plt.subplots(nrows=1, ncols=1, constrained_layout=True)\n",
    "    fig.supxlabel('Time')\n",
    "    fig.set_size_inches(15, 5)\n",
    "    ax.pcolor(signal_array)"
   ]
  },
  {
   "cell_type": "code",
   "execution_count": 6,
   "id": "0c40260a",
   "metadata": {},
   "outputs": [
    {
     "name": "stdout",
     "output_type": "stream",
     "text": [
      "training set hasn't been loaded yet\n"
     ]
    }
   ],
   "source": [
    "try:\n",
    "    training_set\n",
    "except NameError:\n",
    "    print('training set hasn\\'t been loaded yet')\n",
    "    try:\n",
    "        with open('training_set.pkl', 'rb') as handle:\n",
    "            training_set = pickle.load(handle)\n",
    "\n",
    "        with open('label_set.pkl', 'rb') as handle:\n",
    "            label_set = pickle.load(handle)\n",
    "    except:\n",
    "        print('Cannot find training_set.pkl, start creating new dataset')\n",
    "        training_set = []\n",
    "        label_set = []\n",
    "\n",
    "        signal_test, fs_test = sf.read('Recording.wav')\n",
    "        signal_test = np.asarray([x[0] for x in signal_test])\n",
    "        print(fs)\n",
    "        for keyword in tqdm(keywords_list):\n",
    "            count = 0\n",
    "            phoneme = keyword[0]\n",
    "            keyword = keyword[1]\n",
    "            label = np.zeros(len(unique_keywords))\n",
    "            label[unique_keywords.index(phoneme)] = 1\n",
    "            for signal in tqdm(training_phoneme_signals[keyword]):\n",
    "        #         print(signal[0], keyword)\n",
    "        #         print(signal.shape)\n",
    "        #         signal = training_phoneme_signals['s'][290]\n",
    "        #         signal = np.concatenate((training_phoneme_signals['h#'][0], signal))\n",
    "        #         signal = np.concatenate((signal,training_phoneme_signals['iy'][10]))\n",
    "        #         signal = np.concatenate((signal, training_phoneme_signals['h#'][0]))\n",
    "        #         plot_signal_array(signal)\n",
    "\n",
    "        #         write('test.wav', fs, signal.astype(np.float32))\n",
    "                if signal.shape[0] < 256:\n",
    "                    continue\n",
    "                try:\n",
    "                    mfcc = speechpy.feature.mfcc(signal, sampling_frequency=fs, frame_length=0.020, frame_stride=0.01,\n",
    "                                 num_filters=40, fft_length=256, low_frequency=0, high_frequency=None)\n",
    "            #         mfcc_cmvn = speechpy.processing.cmvnw(mfcc,win_size=301,variance_normalization=True)\n",
    "                    for frame in mfcc:\n",
    "                        training_set.append(frame)\n",
    "                        label_set.append(label)\n",
    "                        count += 1\n",
    "                except:\n",
    "                    pass\n",
    "        #         plot_pcolor(mfcc_cmvn.T)\n",
    "\n",
    "        #         mfcc = speechpy.feature.mfcc(signal_test, sampling_frequency=fs_test, frame_length=0.020, frame_stride=0.01,\n",
    "        #                      num_filters=40, fft_length=512, low_frequency=0, high_frequency=None)\n",
    "        #         mfcc_cmvn = speechpy.processing.cmvnw(mfcc,win_size=301,variance_normalization=True)\n",
    "        #         plot_pcolor(mfcc_cmvn[:200].T)\n",
    "\n",
    "        #         break\n",
    "        #     break\n",
    "            audio_list = []\n",
    "\n",
    "            print(keyword, count)\n",
    "        with open('training_set.pkl', 'wb') as handle:\n",
    "            pickle.dump(training_set, handle)\n",
    "\n",
    "        with open('label_set.pkl', 'wb') as handle:\n",
    "            pickle.dump(label_set, handle)"
   ]
  },
  {
   "cell_type": "code",
   "execution_count": 7,
   "id": "0a3fec3d",
   "metadata": {},
   "outputs": [
    {
     "name": "stdout",
     "output_type": "stream",
     "text": [
      "[1. 0. 0. 0. 0. 0. 0. 0. 0. 0. 0. 0. 0. 0. 0.]\n"
     ]
    }
   ],
   "source": [
    "label_count = np.zeros(len(unique_keywords))\n",
    "print(label_set[1])\n",
    "for label in label_set:\n",
    "    label_count[label.tolist().index(1)] += 1"
   ]
  },
  {
   "cell_type": "code",
   "execution_count": 8,
   "id": "8a3fc09d",
   "metadata": {},
   "outputs": [
    {
     "name": "stdout",
     "output_type": "stream",
     "text": [
      "Dataset counts:\n",
      "s 65999\n",
      "i 73012\n",
      "d 1393\n",
      "h 3866\n",
      "e 54131\n",
      "ch 5086\n",
      "k 13571\n",
      "n 21277\n",
      "o 21593\n",
      "a 14798\n",
      "r 23485\n",
      "v 7156\n",
      "z 22262\n",
      "silence 155588\n",
      "other 504274\n"
     ]
    }
   ],
   "source": [
    "print('Dataset counts:')\n",
    "for x, y in zip(unique_keywords, label_count):\n",
    "    print (x, int(y))"
   ]
  },
  {
   "cell_type": "code",
   "execution_count": 8,
   "id": "27775879",
   "metadata": {},
   "outputs": [
    {
     "data": {
      "application/vnd.jupyter.widget-view+json": {
       "model_id": "3d7be0b26d3042889419c95d3f642e20",
       "version_major": 2,
       "version_minor": 0
      },
      "text/plain": [
       "  0%|          | 0/15 [00:00<?, ?it/s]"
      ]
     },
     "metadata": {},
     "output_type": "display_data"
    },
    {
     "name": "stderr",
     "output_type": "stream",
     "text": [
      "Exception ignored in: <function tqdm.__del__ at 0x00000219D68DBEB0>\n",
      "Traceback (most recent call last):\n",
      "  File \"C:\\Users\\user\\miniconda3\\lib\\site-packages\\tqdm\\std.py\", line 1162, in __del__\n",
      "    self.close()\n",
      "  File \"C:\\Users\\user\\miniconda3\\lib\\site-packages\\tqdm\\notebook.py\", line 281, in close\n",
      "    def close(self):\n",
      "KeyboardInterrupt: \n",
      "\n",
      "KeyboardInterrupt\n",
      "\n"
     ]
    }
   ],
   "source": [
    "from sklearn.utils import shuffle\n",
    "\n",
    "training_set, label_set = shuffle(training_set, label_set)\n",
    "\n",
    "def add_random_noise(signal):\n",
    "    percentage = 0.05\n",
    "    noise = np.random.normal(0, signal.std(), signal.size) * percentage\n",
    "    return signal + noise\n",
    "\n",
    "target_dataset_count = 20000\n",
    "balanced_training_set = []\n",
    "balanced_training_label = []\n",
    "for i, keyword in enumerate(tqdm(unique_keywords)):\n",
    "    count = 0\n",
    "    for j, label in enumerate(label_set):\n",
    "        if label.tolist().index(1) == i:\n",
    "            signal = training_set[j]\n",
    "            balanced_training_set.append(signal)\n",
    "            balanced_training_label.append(label_set[j])\n",
    "            count += 1\n",
    "        if count >= target_dataset_count:\n",
    "            break\n",
    "    if label_count[i] < target_dataset_count:\n",
    "        remaining_count = target_dataset_count - label_count[i]\n",
    "        idx = 0\n",
    "        while remaining_count > 0:\n",
    "            for j, label in enumerate(label_set):\n",
    "                if label.tolist().index(1) == i:\n",
    "                    signal = training_set[j]\n",
    "                    signal = add_random_noise(signal)\n",
    "                    balanced_training_set.append(signal)\n",
    "                    balanced_training_label.append(label_set[j])\n",
    "                    remaining_count -= 1\n",
    "                if remaining_count <= 0:\n",
    "                    break"
   ]
  },
  {
   "cell_type": "code",
   "execution_count": null,
   "id": "98e472c9",
   "metadata": {},
   "outputs": [],
   "source": [
    "balanced_label_count = np.zeros(len(unique_keywords))\n",
    "for label in balanced_training_label:\n",
    "    balanced_label_count[label.tolist().index(1)] += 1\n",
    "    \n",
    "print('Dataset counts:')\n",
    "for x, y in zip(unique_keywords, balanced_label_count):\n",
    "    print (x, int(y))"
   ]
  },
  {
   "cell_type": "code",
   "execution_count": null,
   "id": "6d15b98a",
   "metadata": {},
   "outputs": [],
   "source": [
    "with open('20k_training_set.pkl', 'wb') as handle:\n",
    "    pickle.dump(balanced_training_set, handle)\n",
    "\n",
    "with open('20k_training_label_set.pkl', 'wb') as handle:\n",
    "    pickle.dump(balanced_training_label, handle)"
   ]
  },
  {
   "cell_type": "code",
   "execution_count": null,
   "id": "ecfbe3b1",
   "metadata": {},
   "outputs": [],
   "source": [
    "try:\n",
    "    testing_set\n",
    "except NameError:\n",
    "    print('testing set hasn\\'t been loaded yet')\n",
    "    try:\n",
    "        with open('testing_set.pkl', 'rb') as handle:\n",
    "            testing_set = pickle.load(handle)\n",
    "\n",
    "        with open('testing_label_set.pkl', 'rb') as handle:\n",
    "            testing_label_set = pickle.load(handle)\n",
    "    except:\n",
    "        print('Cannot find testing_set.pkl, start creating new dataset')\n",
    "        testing_set = []\n",
    "        testing_label_set = []\n",
    "\n",
    "        signal_test, fs_test = sf.read('Recording.wav')\n",
    "        signal_test = np.asarray([x[0] for x in signal_test])\n",
    "        print(fs)\n",
    "        for keyword in tqdm(keywords_list):\n",
    "            count = 0\n",
    "            phoneme = keyword[0]\n",
    "            keyword = keyword[1]\n",
    "            label = np.zeros(len(unique_keywords))\n",
    "            label[unique_keywords.index(phoneme)] = 1\n",
    "            for signal in tqdm(testing_phoneme_signals[keyword]):\n",
    "        #         print(signal[0], keyword)\n",
    "        #         print(signal.shape)\n",
    "        #         signal = training_phoneme_signals['s'][290]\n",
    "        #         signal = np.concatenate((training_phoneme_signals['h#'][0], signal))\n",
    "        #         signal = np.concatenate((signal,training_phoneme_signals['iy'][10]))\n",
    "        #         signal = np.concatenate((signal, training_phoneme_signals['h#'][0]))\n",
    "        #         plot_signal_array(signal)\n",
    "\n",
    "        #         write('test.wav', fs, signal.astype(np.float32))\n",
    "                if signal.shape[0] < 256:\n",
    "                    continue\n",
    "                try:\n",
    "                    mfcc = speechpy.feature.mfcc(signal, sampling_frequency=fs, frame_length=0.020, frame_stride=0.01,\n",
    "                                 num_filters=40, fft_length=256, low_frequency=0, high_frequency=None)\n",
    "            #         mfcc_cmvn = speechpy.processing.cmvnw(mfcc,win_size=301,variance_normalization=True)\n",
    "                    for frame in mfcc:\n",
    "                        testing_set.append(frame)\n",
    "                        testing_label_set.append(label)\n",
    "                        count += 1\n",
    "                except:\n",
    "                    pass\n",
    "        #         plot_pcolor(mfcc_cmvn.T)\n",
    "\n",
    "        #         mfcc = speechpy.feature.mfcc(signal_test, sampling_frequency=fs_test, frame_length=0.020, frame_stride=0.01,\n",
    "        #                      num_filters=40, fft_length=512, low_frequency=0, high_frequency=None)\n",
    "        #         mfcc_cmvn = speechpy.processing.cmvnw(mfcc,win_size=301,variance_normalization=True)\n",
    "        #         plot_pcolor(mfcc_cmvn[:200].T)\n",
    "\n",
    "        #         break\n",
    "        #     break\n",
    "            audio_list = []\n",
    "\n",
    "            print(keyword, count)\n",
    "        with open('testing_set.pkl', 'wb') as handle:\n",
    "            pickle.dump(testing_set, handle)\n",
    "\n",
    "        with open('testing_label_set.pkl', 'wb') as handle:\n",
    "            pickle.dump(testing_label_set, handle)"
   ]
  },
  {
   "cell_type": "code",
   "execution_count": null,
   "id": "784ce478",
   "metadata": {},
   "outputs": [],
   "source": [
    "testing_label_count = np.zeros(len(unique_keywords))\n",
    "for label in testing_label_set:\n",
    "    testing_label_count[label.tolist().index(1)] += 1\n",
    "print('Dataset counts:')\n",
    "for x, y in zip(unique_keywords, testing_label_count):\n",
    "    print (x, int(y))"
   ]
  },
  {
   "cell_type": "code",
   "execution_count": null,
   "id": "a906652e",
   "metadata": {},
   "outputs": [],
   "source": [
    "testing_set, testing_label_set = shuffle(testing_set, testing_label_set)\n",
    "\n",
    "target_dataset_count = 5000\n",
    "balanced_testing_set = []\n",
    "balanced_testing_label = []\n",
    "for i, keyword in enumerate(tqdm(unique_keywords)):\n",
    "    count = 0\n",
    "    for j, label in enumerate(testing_label_set):\n",
    "        if label.tolist().index(1) == i:\n",
    "            signal = testing_set[j]\n",
    "            balanced_testing_set.append(signal)\n",
    "            balanced_testing_label.append(testing_label_set[j])\n",
    "            count += 1\n",
    "        if count >= target_dataset_count:\n",
    "            break\n",
    "    if testing_label_count[i] < target_dataset_count:\n",
    "        remaining_count = target_dataset_count - testing_label_count[i]\n",
    "        idx = 0\n",
    "        while remaining_count > 0:\n",
    "            for j, label in enumerate(testing_label_set):\n",
    "                if label.tolist().index(1) == i:\n",
    "                    signal = testing_set[j]\n",
    "                    signal = add_random_noise(signal)\n",
    "                    balanced_testing_set.append(signal)\n",
    "                    balanced_testing_label.append(testing_label_set[j])\n",
    "                    remaining_count -= 1\n",
    "                if remaining_count <= 0:\n",
    "                    break"
   ]
  },
  {
   "cell_type": "code",
   "execution_count": null,
   "id": "4183e7af",
   "metadata": {},
   "outputs": [],
   "source": [
    "balanced_testing_label_count = np.zeros(len(unique_keywords))\n",
    "for label in balanced_testing_label:\n",
    "    balanced_testing_label_count[label.tolist().index(1)] += 1\n",
    "    \n",
    "print('Dataset counts:')\n",
    "for x, y in zip(unique_keywords, balanced_testing_label_count):\n",
    "    print (x, int(y))"
   ]
  },
  {
   "cell_type": "code",
   "execution_count": null,
   "id": "b805cbfc",
   "metadata": {},
   "outputs": [],
   "source": [
    "with open('5k_testing_set.pkl', 'wb') as handle:\n",
    "    pickle.dump(balanced_testing_set, handle)\n",
    "\n",
    "with open('5k_testing_label_set.pkl', 'wb') as handle:\n",
    "    pickle.dump(balanced_testing_label, handle)"
   ]
  },
  {
   "cell_type": "code",
   "execution_count": 15,
   "id": "85bde64f",
   "metadata": {},
   "outputs": [
    {
     "data": {
      "application/vnd.jupyter.widget-view+json": {
       "model_id": "58a2b951948a4737899288ba3320b80b",
       "version_major": 2,
       "version_minor": 0
      },
      "text/plain": [
       "  0%|          | 0/8 [00:00<?, ?it/s]"
      ]
     },
     "metadata": {},
     "output_type": "display_data"
    },
    {
     "data": {
      "application/vnd.jupyter.widget-view+json": {
       "model_id": "7fd8a148f1804abe801f6a51b9f0d366",
       "version_major": 2,
       "version_minor": 0
      },
      "text/plain": [
       "  0%|          | 0/11 [00:00<?, ?it/s]"
      ]
     },
     "metadata": {},
     "output_type": "display_data"
    },
    {
     "ename": "KeyboardInterrupt",
     "evalue": "",
     "output_type": "error",
     "traceback": [
      "\u001b[1;31m---------------------------------------------------------------------------\u001b[0m",
      "\u001b[1;31mKeyboardInterrupt\u001b[0m                         Traceback (most recent call last)",
      "Cell \u001b[1;32mIn[15], line 63\u001b[0m\n\u001b[0;32m     59\u001b[0m                         labels_list\u001b[38;5;241m.\u001b[39mappend(unique_keywords[current_labels_list[i]\u001b[38;5;241m.\u001b[39mtolist()\u001b[38;5;241m.\u001b[39mindex(\u001b[38;5;241m1\u001b[39m)])\n\u001b[0;32m     61\u001b[0m     \u001b[38;5;28;01mreturn\u001b[39;00m fs, signals_list, labels_list\n\u001b[1;32m---> 63\u001b[0m fs, x_train_signal, y_train_signal \u001b[38;5;241m=\u001b[39m \u001b[43mcreate_phoneme_dataset\u001b[49m\u001b[43m(\u001b[49m\u001b[43mtesting_dir\u001b[49m\u001b[43m,\u001b[49m\u001b[43m \u001b[49m\u001b[38;5;241;43m30\u001b[39;49m\u001b[43m,\u001b[49m\u001b[43m \u001b[49m\u001b[38;5;241;43m10\u001b[39;49m\u001b[43m)\u001b[49m\n",
      "Cell \u001b[1;32mIn[15], line 57\u001b[0m, in \u001b[0;36mcreate_phoneme_dataset\u001b[1;34m(working_dir, prev_frames, future_frames)\u001b[0m\n\u001b[0;32m     55\u001b[0m \u001b[38;5;28;01mif\u001b[39;00m i\u001b[38;5;241m%\u001b[39m\u001b[38;5;241m100\u001b[39m:\n\u001b[0;32m     56\u001b[0m     filename \u001b[38;5;241m=\u001b[39m \u001b[38;5;124mf\u001b[39m\u001b[38;5;124m'\u001b[39m\u001b[38;5;124m./local_recordings/\u001b[39m\u001b[38;5;132;01m{\u001b[39;00mphoneme\u001b[38;5;132;01m}\u001b[39;00m\u001b[38;5;124m-\u001b[39m\u001b[38;5;132;01m{\u001b[39;00mdatetime\u001b[38;5;241m.\u001b[39mdatetime\u001b[38;5;241m.\u001b[39mnow()\u001b[38;5;241m.\u001b[39mstrftime(\u001b[38;5;124m\"\u001b[39m\u001b[38;5;124m%\u001b[39m\u001b[38;5;124mY\u001b[39m\u001b[38;5;124m%\u001b[39m\u001b[38;5;124mm\u001b[39m\u001b[38;5;132;01m%d\u001b[39;00m\u001b[38;5;124m-\u001b[39m\u001b[38;5;124m%\u001b[39m\u001b[38;5;124mH\u001b[39m\u001b[38;5;124m%\u001b[39m\u001b[38;5;124mM\u001b[39m\u001b[38;5;124m%\u001b[39m\u001b[38;5;124mS\u001b[39m\u001b[38;5;124m\"\u001b[39m)\u001b[38;5;132;01m}\u001b[39;00m\u001b[38;5;124m.wav\u001b[39m\u001b[38;5;124m'\u001b[39m\n\u001b[1;32m---> 57\u001b[0m     \u001b[43msf\u001b[49m\u001b[38;5;241;43m.\u001b[39;49m\u001b[43mwrite\u001b[49m\u001b[43m(\u001b[49m\u001b[43mfilename\u001b[49m\u001b[43m,\u001b[49m\u001b[43m \u001b[49m\u001b[43mcurrent_signals_list\u001b[49m\u001b[43m[\u001b[49m\u001b[43mi\u001b[49m\u001b[43m \u001b[49m\u001b[38;5;241;43m-\u001b[39;49m\u001b[43m \u001b[49m\u001b[43mprev_frames\u001b[49m\u001b[43m:\u001b[49m\u001b[43m \u001b[49m\u001b[43mi\u001b[49m\u001b[43m \u001b[49m\u001b[38;5;241;43m+\u001b[39;49m\u001b[43m \u001b[49m\u001b[43mfuture_frames\u001b[49m\u001b[43m \u001b[49m\u001b[38;5;241;43m+\u001b[39;49m\u001b[43m \u001b[49m\u001b[38;5;241;43m1\u001b[39;49m\u001b[43m]\u001b[49m\u001b[43m,\u001b[49m\u001b[43m \u001b[49m\u001b[38;5;241;43m16000\u001b[39;49m\u001b[43m)\u001b[49m\n\u001b[0;32m     58\u001b[0m signals_list\u001b[38;5;241m.\u001b[39mappend(current_signals_list[i \u001b[38;5;241m-\u001b[39m prev_frames: i \u001b[38;5;241m+\u001b[39m future_frames \u001b[38;5;241m+\u001b[39m \u001b[38;5;241m1\u001b[39m])\n\u001b[0;32m     59\u001b[0m labels_list\u001b[38;5;241m.\u001b[39mappend(unique_keywords[current_labels_list[i]\u001b[38;5;241m.\u001b[39mtolist()\u001b[38;5;241m.\u001b[39mindex(\u001b[38;5;241m1\u001b[39m)])\n",
      "File \u001b[1;32m~\\miniconda3\\lib\\site-packages\\soundfile.py:343\u001b[0m, in \u001b[0;36mwrite\u001b[1;34m(file, data, samplerate, subtype, endian, format, closefd)\u001b[0m\n\u001b[0;32m    341\u001b[0m \u001b[38;5;28;01melse\u001b[39;00m:\n\u001b[0;32m    342\u001b[0m     channels \u001b[38;5;241m=\u001b[39m data\u001b[38;5;241m.\u001b[39mshape[\u001b[38;5;241m1\u001b[39m]\n\u001b[1;32m--> 343\u001b[0m \u001b[38;5;28;01mwith\u001b[39;00m \u001b[43mSoundFile\u001b[49m\u001b[43m(\u001b[49m\u001b[43mfile\u001b[49m\u001b[43m,\u001b[49m\u001b[43m \u001b[49m\u001b[38;5;124;43m'\u001b[39;49m\u001b[38;5;124;43mw\u001b[39;49m\u001b[38;5;124;43m'\u001b[39;49m\u001b[43m,\u001b[49m\u001b[43m \u001b[49m\u001b[43msamplerate\u001b[49m\u001b[43m,\u001b[49m\u001b[43m \u001b[49m\u001b[43mchannels\u001b[49m\u001b[43m,\u001b[49m\n\u001b[0;32m    344\u001b[0m \u001b[43m               \u001b[49m\u001b[43msubtype\u001b[49m\u001b[43m,\u001b[49m\u001b[43m \u001b[49m\u001b[43mendian\u001b[49m\u001b[43m,\u001b[49m\u001b[43m \u001b[49m\u001b[38;5;28;43mformat\u001b[39;49m\u001b[43m,\u001b[49m\u001b[43m \u001b[49m\u001b[43mclosefd\u001b[49m\u001b[43m)\u001b[49m \u001b[38;5;28;01mas\u001b[39;00m f:\n\u001b[0;32m    345\u001b[0m     f\u001b[38;5;241m.\u001b[39mwrite(data)\n",
      "File \u001b[1;32m~\\miniconda3\\lib\\site-packages\\soundfile.py:658\u001b[0m, in \u001b[0;36mSoundFile.__init__\u001b[1;34m(self, file, mode, samplerate, channels, subtype, endian, format, closefd)\u001b[0m\n\u001b[0;32m    655\u001b[0m \u001b[38;5;28mself\u001b[39m\u001b[38;5;241m.\u001b[39m_mode \u001b[38;5;241m=\u001b[39m mode\n\u001b[0;32m    656\u001b[0m \u001b[38;5;28mself\u001b[39m\u001b[38;5;241m.\u001b[39m_info \u001b[38;5;241m=\u001b[39m _create_info_struct(file, mode, samplerate, channels,\n\u001b[0;32m    657\u001b[0m                                  \u001b[38;5;28mformat\u001b[39m, subtype, endian)\n\u001b[1;32m--> 658\u001b[0m \u001b[38;5;28mself\u001b[39m\u001b[38;5;241m.\u001b[39m_file \u001b[38;5;241m=\u001b[39m \u001b[38;5;28;43mself\u001b[39;49m\u001b[38;5;241;43m.\u001b[39;49m\u001b[43m_open\u001b[49m\u001b[43m(\u001b[49m\u001b[43mfile\u001b[49m\u001b[43m,\u001b[49m\u001b[43m \u001b[49m\u001b[43mmode_int\u001b[49m\u001b[43m,\u001b[49m\u001b[43m \u001b[49m\u001b[43mclosefd\u001b[49m\u001b[43m)\u001b[49m\n\u001b[0;32m    659\u001b[0m \u001b[38;5;28;01mif\u001b[39;00m \u001b[38;5;28mset\u001b[39m(mode)\u001b[38;5;241m.\u001b[39missuperset(\u001b[38;5;124m'\u001b[39m\u001b[38;5;124mr+\u001b[39m\u001b[38;5;124m'\u001b[39m) \u001b[38;5;129;01mand\u001b[39;00m \u001b[38;5;28mself\u001b[39m\u001b[38;5;241m.\u001b[39mseekable():\n\u001b[0;32m    660\u001b[0m     \u001b[38;5;66;03m# Move write position to 0 (like in Python file objects)\u001b[39;00m\n\u001b[0;32m    661\u001b[0m     \u001b[38;5;28mself\u001b[39m\u001b[38;5;241m.\u001b[39mseek(\u001b[38;5;241m0\u001b[39m)\n",
      "File \u001b[1;32m~\\miniconda3\\lib\\site-packages\\soundfile.py:1205\u001b[0m, in \u001b[0;36mSoundFile._open\u001b[1;34m(self, file, mode_int, closefd)\u001b[0m\n\u001b[0;32m   1203\u001b[0m         \u001b[38;5;28;01melse\u001b[39;00m:\n\u001b[0;32m   1204\u001b[0m             file \u001b[38;5;241m=\u001b[39m file\u001b[38;5;241m.\u001b[39mencode(_sys\u001b[38;5;241m.\u001b[39mgetfilesystemencoding())\n\u001b[1;32m-> 1205\u001b[0m     file_ptr \u001b[38;5;241m=\u001b[39m \u001b[43mopenfunction\u001b[49m\u001b[43m(\u001b[49m\u001b[43mfile\u001b[49m\u001b[43m,\u001b[49m\u001b[43m \u001b[49m\u001b[43mmode_int\u001b[49m\u001b[43m,\u001b[49m\u001b[43m \u001b[49m\u001b[38;5;28;43mself\u001b[39;49m\u001b[38;5;241;43m.\u001b[39;49m\u001b[43m_info\u001b[49m\u001b[43m)\u001b[49m\n\u001b[0;32m   1206\u001b[0m \u001b[38;5;28;01melif\u001b[39;00m \u001b[38;5;28misinstance\u001b[39m(file, \u001b[38;5;28mint\u001b[39m):\n\u001b[0;32m   1207\u001b[0m     file_ptr \u001b[38;5;241m=\u001b[39m _snd\u001b[38;5;241m.\u001b[39msf_open_fd(file, mode_int, \u001b[38;5;28mself\u001b[39m\u001b[38;5;241m.\u001b[39m_info, closefd)\n",
      "\u001b[1;31mKeyboardInterrupt\u001b[0m: "
     ]
    }
   ],
   "source": [
    "import datetime\n",
    "testing_dir = os.getcwd()\n",
    "testing_dir = os.path.join(testing_dir, '.\\\\TIMIT\\\\TEST')\n",
    "\n",
    "training_dir = os.getcwd()\n",
    "training_dir = os.path.join(training_dir, '.\\\\TIMIT\\\\TRAIN')\n",
    "\n",
    "\n",
    "\n",
    "def create_phoneme_dataset(working_dir, prev_frames, future_frames):\n",
    "    signals_list = []\n",
    "    labels_list = []\n",
    "    dialect_folders = os.listdir(working_dir)\n",
    "    for dialect_folder in tqdm(dialect_folders, leave=False):\n",
    "        voice_folders = os.listdir(os.path.join(working_dir, dialect_folder))\n",
    "        for voice_sample_folder in tqdm(voice_folders, leave=False):\n",
    "            current_dir = os.path.join(working_dir, dialect_folder)\n",
    "            current_dir = os.path.join(current_dir, voice_sample_folder)\n",
    "\n",
    "            voice_samples = [file for file in os.listdir(current_dir) if file.endswith('.WAV')]\n",
    "            for voice_sample in voice_samples:\n",
    "                voice_sample_path = os.path.join(current_dir, voice_sample)\n",
    "                signal, fs = sf.read(voice_sample_path)\n",
    "\n",
    "                # Pre-emphasize signal\n",
    "#                 signal_preemphasized = speechpy.processing.preemphasis(signal, cof=0.98)\n",
    "            \n",
    "#                 mfcc = speechpy.feature.mfcc(signal, sampling_frequency=fs, frame_length=0.025, frame_stride=0.01,\n",
    "#                                  num_filters=40, fft_length=256, low_frequency=0, high_frequency=None)\n",
    "\n",
    "                current_signals_list = []\n",
    "                current_labels_list = []\n",
    "                phoneme_transcript_path = os.path.join(current_dir, voice_sample)[:-3] + 'PHN'\n",
    "                f = open(phoneme_transcript_path, encoding='utf-8')\n",
    "                lines = f.readlines()\n",
    "                for line in lines:\n",
    "                    data = line.split(' ')\n",
    "                    phoneme_start_idx = int(data[0])\n",
    "                    phoneme_stop_idx = int(data[1])\n",
    "                    phoneme = data[2].strip()\n",
    "                    \n",
    "                    label = np.zeros(len(unique_keywords))\n",
    "                    for phoneme_pair in keywords_list:\n",
    "                        if phoneme_pair[1] == phoneme:\n",
    "                            phoneme = phoneme_pair[0]\n",
    "                            break\n",
    "                    label[unique_keywords.index(phoneme)] = 1\n",
    "                    \n",
    "                    for frame in signal[int(phoneme_start_idx):int(phoneme_stop_idx)]:\n",
    "                        current_signals_list.append(frame)\n",
    "                        current_labels_list.append(label)\n",
    "                        \n",
    "                for i in range(len(current_signals_list)):\n",
    "                    if i >= prev_frames and i < len(current_signals_list) - future_frames:\n",
    "                        if i%100:\n",
    "                            filename = f'./local_recordings/{phoneme}-{datetime.datetime.now().strftime(\"%Y%m%d-%H%M%S\")}.wav'\n",
    "                            sf.write(filename, current_signals_list[i - prev_frames: i + future_frames + 1], 16000)\n",
    "                        signals_list.append(current_signals_list[i - prev_frames: i + future_frames + 1])\n",
    "                        labels_list.append(unique_keywords[current_labels_list[i].tolist().index(1)])\n",
    "                        \n",
    "    return fs, signals_list, labels_list\n",
    "\n",
    "fs, x_train_signal, y_train_signal = create_phoneme_dataset(testing_dir, 30*160, 10*160)"
   ]
  },
  {
   "cell_type": "code",
   "execution_count": 26,
   "id": "a9fe0e7a",
   "metadata": {},
   "outputs": [
    {
     "name": "stdout",
     "output_type": "stream",
     "text": [
      "Dataset counts:\n",
      "s 28706\n",
      "i 34923\n",
      "d 2314\n",
      "h 1566\n",
      "e 24015\n",
      "ch 2127\n",
      "k 7767\n",
      "n 12898\n",
      "o 7824\n",
      "a 7466\n",
      "r 15093\n",
      "v 4077\n",
      "z 10830\n",
      "silence 17679\n",
      "other 268242\n"
     ]
    }
   ],
   "source": [
    "label_count = np.zeros(len(unique_keywords))\n",
    "for label in y_train:\n",
    "    label_count[label.tolist().index(1)] += 1\n",
    "    \n",
    "print('Dataset counts:')\n",
    "for x, y in zip(unique_keywords, label_count):\n",
    "    print (x, int(y))"
   ]
  },
  {
   "cell_type": "code",
   "execution_count": 31,
   "id": "959ceeb6",
   "metadata": {},
   "outputs": [
    {
     "data": {
      "application/vnd.jupyter.widget-view+json": {
       "model_id": "302687633856495681f40011c0d89b61",
       "version_major": 2,
       "version_minor": 0
      },
      "text/plain": [
       "  0%|          | 0/15 [00:00<?, ?it/s]"
      ]
     },
     "metadata": {},
     "output_type": "display_data"
    }
   ],
   "source": [
    "def add_random_noise(signal):\n",
    "    percentage = 0.05\n",
    "    noise = np.random.normal(0, signal.std(), signal.shape) * percentage\n",
    "    return signal + noise\n",
    "\n",
    "x_train, y_train = shuffle(x_train, y_train)\n",
    "\n",
    "target_dataset_count = 10000\n",
    "x_train_balanced = []\n",
    "y_train_balanced = []\n",
    "for i, keyword in enumerate(tqdm(unique_keywords)):\n",
    "    count = 0\n",
    "    for j, label in enumerate(y_train):\n",
    "        if label.tolist().index(1) == i:\n",
    "            x_train_balanced.append(np.array(x_train[j]))\n",
    "            y_train_balanced.append(np.array(y_train[j]))\n",
    "            count += 1\n",
    "        if count >= target_dataset_count:\n",
    "            break\n",
    "    if label_count[i] < target_dataset_count:\n",
    "        remaining_count = target_dataset_count - label_count[i]\n",
    "        idx = 0\n",
    "        while remaining_count > 0:\n",
    "            for j, label in enumerate(y_train):\n",
    "                if label.tolist().index(1) == i:\n",
    "                    signal = x_train[j]\n",
    "                    signal = add_random_noise(np.array(signal))\n",
    "                    x_train_balanced.append(np.array(signal))\n",
    "                    y_train_balanced.append(np.array(y_train[j]))\n",
    "                    remaining_count -= 1\n",
    "                if remaining_count <= 0:\n",
    "                    break\n",
    "x_train_balanced = np.array(x_train_balanced)\n",
    "y_train_balanced = np.array(y_train_balanced)"
   ]
  },
  {
   "cell_type": "code",
   "execution_count": 32,
   "id": "da55fe2c",
   "metadata": {},
   "outputs": [
    {
     "data": {
      "text/plain": [
       "array([[1., 0., 0., ..., 0., 0., 0.],\n",
       "       [1., 0., 0., ..., 0., 0., 0.],\n",
       "       [1., 0., 0., ..., 0., 0., 0.],\n",
       "       ...,\n",
       "       [0., 0., 0., ..., 0., 0., 1.],\n",
       "       [0., 0., 0., ..., 0., 0., 1.],\n",
       "       [0., 0., 0., ..., 0., 0., 1.]])"
      ]
     },
     "execution_count": 32,
     "metadata": {},
     "output_type": "execute_result"
    },
    {
     "data": {
      "image/png": "[encoded data removed]",
      "text/plain": [
       "<Figure size 1500x500 with 1 Axes>"
      ]
     },
     "metadata": {},
     "output_type": "display_data"
    }
   ],
   "source": [
    "np.save('150k_x_test.npy', x_train_balanced)\n",
    "np.save('150k_y_test.npy', y_train_balanced)\n",
    "\n",
    "plot_pcolor(x_train_balanced[7].T)\n",
    "y_train_balanced"
   ]
  },
  {
   "cell_type": "code",
   "execution_count": 30,
   "id": "1753aa2e",
   "metadata": {},
   "outputs": [
    {
     "data": {
      "text/plain": [
       "(75000, 41, 13)"
      ]
     },
     "execution_count": 30,
     "metadata": {},
     "output_type": "execute_result"
    }
   ],
   "source": [
    "x_train_balanced.shape"
   ]
  },
  {
   "cell_type": "code",
   "execution_count": null,
   "id": "e851cd4e",
   "metadata": {},
   "outputs": [],
   "source": []
  }
 ],
 "metadata": {
  "kernelspec": {
   "display_name": "Python 3 (ipykernel)",
   "language": "python",
   "name": "python3"
  },
  "language_info": {
   "codemirror_mode": {
    "name": "ipython",
    "version": 3
   },
   "file_extension": ".py",
   "mimetype": "text/x-python",
   "name": "python",
   "nbconvert_exporter": "python",
   "pygments_lexer": "ipython3",
   "version": "3.10.9"
  }
 },
 "nbformat": 4,
 "nbformat_minor": 5
}

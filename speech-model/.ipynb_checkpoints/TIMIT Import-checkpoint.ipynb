{
 "cells": [
  {
   "cell_type": "code",
   "execution_count": 9,
   "id": "c3dbf4c1",
   "metadata": {},
   "outputs": [
    {
     "data": {
      "application/vnd.jupyter.widget-view+json": {
       "model_id": "fa80b0c5794d4e05b07949089ed93aac",
       "version_major": 2,
       "version_minor": 0
      },
      "text/plain": [
       "  0%|          | 0/8 [00:00<?, ?it/s]"
      ]
     },
     "metadata": {},
     "output_type": "display_data"
    },
    {
     "name": "stderr",
     "output_type": "stream",
     "text": [
      "C:\\Users\\user\\AppData\\Local\\Temp\\ipykernel_26656\\503386533.py:46: VisibleDeprecationWarning: Creating an ndarray from ragged nested sequences (which is a list-or-tuple of lists-or-tuples-or ndarrays with different lengths or shapes) is deprecated. If you meant to do this, you must specify 'dtype=object' when creating the ndarray.\n",
      "  return np.asarray(phoneme_signals), np.asarray(phoneme_labels)\n"
     ]
    }
   ],
   "source": [
    "import os\n",
    "import soundfile as sf     # for reading audio files\n",
    "import speechpy           # for speech processing\n",
    "from tqdm.notebook import tqdm     # for progress bars\n",
    "import numpy as np        # for numerical operations\n",
    "import matplotlib.pyplot as plt   # for plotting\n",
    "\n",
    "# Set directories for training and testing data\n",
    "testing_dir = os.getcwd()\n",
    "testing_dir = os.path.join(testing_dir, '.\\\\TIMIT\\\\TEST')\n",
    "training_dir = os.getcwd()\n",
    "training_dir = os.path.join(training_dir, '.\\\\TIMIT\\\\TRAIN')\n",
    "\n",
    "def get_raw_phoneme_dataset(working_dir):\n",
    "    phoneme_signals = []     # list for storing phoneme signals\n",
    "    phoneme_labels = []      # list for storing phoneme labels\n",
    "    dialect_folders = os.listdir(working_dir)\n",
    "    for dialect_folder in tqdm(dialect_folders):\n",
    "        voice_folders = os.listdir(os.path.join(working_dir, dialect_folder))\n",
    "        for voice_sample_folder in voice_folders:\n",
    "            current_dir = os.path.join(working_dir, dialect_folder)\n",
    "            current_dir = os.path.join(current_dir, voice_sample_folder)\n",
    "\n",
    "            voice_samples = [file for file in os.listdir(current_dir) if file.endswith('.WAV')]\n",
    "            for voice_sample in voice_samples:\n",
    "                voice_sample_path = os.path.join(current_dir, voice_sample)\n",
    "                signal, fs = sf.read(voice_sample_path)\n",
    "                \n",
    "                # Uncomment below to Pre-emphasize signal\n",
    "#                 signal = speechpy.processing.preemphasis(signal, cof=0.98)\n",
    "                \n",
    "                phoneme_transcript_path = os.path.join(current_dir, voice_sample)[:-3] + 'PHN'\n",
    "                f = open(phoneme_transcript_path, encoding='utf-8')\n",
    "                lines = f.readlines()\n",
    "                for line in lines:\n",
    "                    data = line.split(' ')\n",
    "                    phoneme_start_idx = int(data[0])\n",
    "                    phoneme_stop_idx = int(data[1])\n",
    "                    phoneme = data[2].strip()\n",
    "                    \n",
    "                    phoneme_signal = np.asarray(signal[phoneme_start_idx:phoneme_stop_idx])\n",
    "                \n",
    "                    # Add phoneme signal and label to list\n",
    "                    phoneme_signals.append(phoneme_signal)\n",
    "                    phoneme_labels.append(phoneme)\n",
    "    return phoneme_signals, phoneme_labels\n",
    "        \n",
    "# Load training phoneme signals\n",
    "signals, labels = get_raw_phoneme_dataset(training_dir)\n"
   ]
  },
  {
   "cell_type": "code",
   "execution_count": null,
   "id": "3991e273",
   "metadata": {},
   "outputs": [],
   "source": []
  }
 ],
 "metadata": {
  "kernelspec": {
   "display_name": "Python 3 (ipykernel)",
   "language": "python",
   "name": "python3"
  },
  "language_info": {
   "codemirror_mode": {
    "name": "ipython",
    "version": 3
   },
   "file_extension": ".py",
   "mimetype": "text/x-python",
   "name": "python",
   "nbconvert_exporter": "python",
   "pygments_lexer": "ipython3",
   "version": "3.9.13"
  }
 },
 "nbformat": 4,
 "nbformat_minor": 5
}
